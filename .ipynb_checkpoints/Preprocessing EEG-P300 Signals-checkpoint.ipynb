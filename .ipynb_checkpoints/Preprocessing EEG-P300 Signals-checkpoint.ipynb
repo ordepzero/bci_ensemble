{
 "cells": [
  {
   "cell_type": "markdown",
   "metadata": {},
   "source": [
    "### Importing Libraries"
   ]
  },
  {
   "cell_type": "code",
   "execution_count": 1,
   "metadata": {},
   "outputs": [],
   "source": [
    "import datetime"
   ]
  },
  {
   "cell_type": "code",
   "execution_count": 2,
   "metadata": {},
   "outputs": [],
   "source": [
    "import os\n",
    "import pandas as pd\n",
    "from scipy import signal"
   ]
  },
  {
   "cell_type": "markdown",
   "metadata": {},
   "source": [
    "### Setting Constants"
   ]
  },
  {
   "cell_type": "code",
   "execution_count": 3,
   "metadata": {},
   "outputs": [],
   "source": [
    "ROOT_DIRECTORY = \"../DATASETS/bci_competition_3/p300\""
   ]
  },
  {
   "cell_type": "code",
   "execution_count": 4,
   "metadata": {},
   "outputs": [],
   "source": [
    "SEGMENTED_FILES = ROOT_DIRECTORY+\"/segmented_files\""
   ]
  },
  {
   "cell_type": "code",
   "execution_count": 57,
   "metadata": {},
   "outputs": [],
   "source": [
    "NUMBER_CHANNELS = 64\n",
    "INTER_STIMULU_SIZE = 42\n",
    "NUMBER_CHARACTERS = 85\n",
    "NUMBER_TRIALS = 15\n",
    "NUMBER_ROWS_COLUMNS = 12\n",
    "NUMBER_STIMULI = NUMBER_TRIALS * NUMBER_ROWS_COLUMNS #180\n",
    "SEGMENT_SIZE = 160\n",
    "SIGNAL_FREQUENCY = 240\n",
    "LOWCUT = 0.1\n",
    "HIGHCUT = 10.0\n",
    "FILTER_ORDER = 5\n",
    "DECIMATION_FACTOR = 12"
   ]
  },
  {
   "cell_type": "code",
   "execution_count": 99,
   "metadata": {},
   "outputs": [],
   "source": [
    "SUBJECTS = ['A','B']\n",
    "SIGNAL_FILES = [\"/subject_A/Subject_A_Train_Signal.txt\",\"/subject_B/Subject_B_Train_Signal.txt\"]\n",
    "STIMULUS_FILES = [\"/subject_A/Subject_A_Train_StimulusType.txt\",\"subject_B/Subject_B_Train_StimulusType.txt\"]\n",
    "STIMULUS_CODE_FILES = [\"/subject_A/Subject_A_Train_StimulusCode.txt\",\"subject_B/Subject_B_Train_StimulusCode.txt\"]"
   ]
  },
  {
   "cell_type": "markdown",
   "metadata": {},
   "source": [
    "### Defining Functions"
   ]
  },
  {
   "cell_type": "code",
   "execution_count": 89,
   "metadata": {},
   "outputs": [],
   "source": [
    "def chebyshev1_filter(signals,lowcut, highcut, order,fs=240):\n",
    "\n",
    "    lowcut = 2 * lowcut / fs\n",
    "    highcut = 2 * highcut /fs   \n",
    "  \n",
    "    b, a = signal.cheby1(order, 0.1,[lowcut, highcut],'bandpass')\n",
    "    \n",
    "    filtered_signals = []\n",
    "    for i in range(len(signals)):\n",
    "        signal_decimated = signal.decimate(signals[i],DECIMATION_FACTOR)\n",
    "        filtered_signals.append(signal.lfilter(b, a, signal_decimated))        \n",
    "\n",
    "    return filtered_signals "
   ]
  },
  {
   "cell_type": "code",
   "execution_count": 92,
   "metadata": {},
   "outputs": [],
   "source": [
    "def extract_values(file_values):\n",
    "    all_extracted_values = []\n",
    "    for temp_values in file_values:\n",
    "        separated_values = []\n",
    "        for j in range(0,len(file_values[temp_signal]),INTER_STIMULU_SIZE):\n",
    "            separated_values.append(file_values[temp_signal][j])\n",
    "            if(len(separated_values) == 180):\n",
    "                break\n",
    "        all_extracted_values.append(separated_values)\n",
    "    return all_extracted_values"
   ]
  },
  {
   "cell_type": "markdown",
   "metadata": {},
   "source": [
    "### Loading, Selecting Values and Saving Files"
   ]
  },
  {
   "cell_type": "code",
   "execution_count": 8,
   "metadata": {},
   "outputs": [
    {
     "name": "stdout",
     "output_type": "stream",
     "text": [
      "0:00:20.905381\n"
     ]
    }
   ],
   "source": [
    "begin_time = datetime.datetime.now()\n",
    "\n",
    "if not os.path.exists(SEGMENTED_FILES):\n",
    "    os.makedirs(SEGMENTED_FILES)\n",
    "\n",
    "for sigs,stims,codes,subject in zip(SIGNAL_FILES,STIMULUS_FILES,STIMULUS_CODE_FILES,SUBJECTS):\n",
    "    sigs_file = pd.read_csv(ROOT_DIRECTORY+sigs, delim_whitespace=True, header=None)\n",
    "    stims_file = pd.read_csv(ROOT_DIRECTORY+stims, delim_whitespace=True, header=None)\n",
    "    codes_file = pd.read_csv(ROOT_DIRECTORY+codes, delim_whitespace=True, header=None)\n",
    "\n",
    "    count_char = 0\n",
    "    for temp_char in range(0,sigs_file.shape[0],NUMBER_CHANNELS):\n",
    "\n",
    "        temp_signals = sigs_file.iloc[temp_char:(temp_char+NUMBER_CHANNELS)]\n",
    "\n",
    "        segments = []\n",
    "        for temp_index,temp_signal in temp_signals.iterrows():\n",
    "            for i_begin in range(0,len(temp_signal),INTER_STIMULU_SIZE):\n",
    "                segments.append(temp_signal[i_begin:i_begin+SEGMENT_SIZE])\n",
    "                if(i_begin >= INTER_STIMULU_SIZE*(NUMBER_STIMULI-1)):\n",
    "                    break\n",
    "\n",
    "        sigs_seg_filtered = chebyshev1_filter(segments,LOWCUT, HIGHCUT, FILTER_ORDER,SIGNAL_FREQUENCY)\n",
    "\n",
    "        folder_to_save = SEGMENTED_FILES+'/'+subject\n",
    "        if not os.path.exists(folder_to_save):\n",
    "                os.makedirs(folder_to_save)\n",
    "                \n",
    "        pd.DataFrame(sigs_seg_filtered).to_csv(folder_to_save+'/'+subject+'_'+str(count_char)+'_char_filtered_signals.csv',index=False)\n",
    "        count_char = count_char + 1\n",
    "    \n",
    "    stimuli_extracted = extract_values(stims_file)\n",
    "    pd.DataFrame(stimuli_extracted).to_csv(folder_to_save+'/'+subject+'_'+str(count_char)+'_char_stimuli.csv',index=False)\n",
    "\n",
    "    codes_extracted = extract_values(codes_file)\n",
    "    pd.DataFrame(codes_extracted).to_csv(folder_to_save+'/'+subject+'_'+str(count_char)+'_char_codes.csv',index=False)\n",
    "\n",
    "    \n",
    "end_time = datetime.datetime.now()\n",
    "print(end_time-begin_time)"
   ]
  }
 ],
 "metadata": {
  "kernelspec": {
   "display_name": "Python 3",
   "language": "python",
   "name": "python3"
  },
  "language_info": {
   "codemirror_mode": {
    "name": "ipython",
    "version": 3
   },
   "file_extension": ".py",
   "mimetype": "text/x-python",
   "name": "python",
   "nbconvert_exporter": "python",
   "pygments_lexer": "ipython3",
   "version": "3.7.3"
  }
 },
 "nbformat": 4,
 "nbformat_minor": 2
}
