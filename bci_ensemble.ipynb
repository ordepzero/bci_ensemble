{
 "cells": [
  {
   "cell_type": "markdown",
   "metadata": {},
   "source": [
    "# Definindo constantes para o caminho dos datasets\n"
   ]
  },
  {
   "cell_type": "markdown",
   "metadata": {},
   "source": [
    "## Constantes dos dados de treino"
   ]
  },
  {
   "cell_type": "code",
   "execution_count": 1,
   "metadata": {},
   "outputs": [],
   "source": [
    "SIGNAL_FILE_A = \"../../bases/data_set_2/subject_A/Subject_A_Train_Signal.txt\"\n",
    "SIGNAL_FILE_B = \"../../bases/data_set_2/subject_B/Subject_B_Train_Signal.txt\"\n",
    "STIMULUS_FILE_A = \"../../bases/data_set_2/subject_A/Subject_A_Train_StimulusType.txt\"\n",
    "STIMULUS_FILE_B = \"../../bases/data_set_2/subject_B/Subject_B_Train_StimulusType.txt\"\n",
    "STIMULUS_CODE_A = \"../../bases/data_set_2/subject_A/Subject_A_Train_StimulusCode.txt\"\n",
    "STIMULUS_CODE_B = \"../../bases/data_set_2/subject_B/Subject_B_Train_StimulusCode.txt\""
   ]
  },
  {
   "cell_type": "markdown",
   "metadata": {},
   "source": [
    "## Constantes dos dados de teste"
   ]
  },
  {
   "cell_type": "code",
   "execution_count": 2,
   "metadata": {},
   "outputs": [],
   "source": [
    "SIGNAL_TESTFILE_A = \"../../bases/data_set_2/subject_A/Subject_A_Test_Signal.txt\"\n",
    "SIGNAL_TESTFILE_B = \"../../bases/data_set_2/subject_B/Subject_B_Test_Signal.txt\"\n",
    "STIMULUS_TESTCODE_A = \"../../bases/data_set_2/subject_A/Subject_A_Test_StimulusCode.txt\"\n",
    "STIMULUS_TESTCODE_B = \"../../bases/data_set_2/subject_B/Subject_B_Test_StimulusCode.txt\""
   ]
  },
  {
   "cell_type": "markdown",
   "metadata": {},
   "source": [
    "## Carregando os arquivos"
   ]
  },
  {
   "cell_type": "code",
   "execution_count": null,
   "metadata": {},
   "outputs": [],
   "source": [
    "import definitions as defs\n",
    "import pandas as pd\n",
    "\n",
    "signal_file = pd.read_table(defs.SIGNAL_FILE_B,delim_whitespace=True,header=None)\n",
    "stimulus_file = pd.read_table(defs.STIMULUS_FILE_B,delim_whitespace=True,header=None).T\n",
    "code_file = pd.read_table(defs.STIMULUS_CODE_B,delim_whitespace=True,header=None).T\n"
   ]
  }
 ],
 "metadata": {
  "kernelspec": {
   "display_name": "Python 3",
   "language": "python",
   "name": "python3"
  },
  "language_info": {
   "codemirror_mode": {
    "name": "ipython",
    "version": 3
   },
   "file_extension": ".py",
   "mimetype": "text/x-python",
   "name": "python",
   "nbconvert_exporter": "python",
   "pygments_lexer": "ipython3",
   "version": "3.6.4"
  }
 },
 "nbformat": 4,
 "nbformat_minor": 2
}
